{
 "cells": [
  {
   "cell_type": "code",
   "execution_count": 14,
   "id": "6a7d26f8",
   "metadata": {},
   "outputs": [],
   "source": [
    "# import libraries \n",
    "\n",
    "from bs4 import BeautifulSoup\n",
    "import requests\n",
    "import time\n",
    "import datetime\n",
    "\n",
    "import smtplib"
   ]
  },
  {
   "cell_type": "code",
   "execution_count": 15,
   "id": "63c2d793",
   "metadata": {},
   "outputs": [
    {
     "name": "stdout",
     "output_type": "stream",
     "text": [
      "\n",
      "                   Funny Got Data MIS Data Systems Business Analyst T-Shirt\n",
      "                  \n",
      "\n",
      "\n",
      "\n",
      "\n",
      "\n",
      "                  $16.99\n",
      "                 \n",
      "\n",
      "\n",
      "                   $\n",
      "                  \n",
      "\n",
      "                   16\n",
      "                   \n",
      "                    .\n",
      "                   \n",
      "\n",
      "\n",
      "                   99\n",
      "                  \n",
      "\n",
      "\n",
      "\n",
      "\n",
      "\n",
      "\n",
      "\n",
      "\n",
      "\n",
      "\n",
      "\n",
      "\n"
     ]
    }
   ],
   "source": [
    "# connect to the website\n",
    "url='https://www.amazon.com/Funny-Data-Systems-Business-Analyst/dp/B07FNW9FGJ/ref=sr_1_3?dchild=1&keywords=data%2Banalyst%2Btshirt&qid=1626655184&sr=8-3&customId=B0752XJYNL&th=1%27'\n",
    "\n",
    "# 用这个网页知道自己的user agent :https://httpbin.org/get  这一步是链接我们的电脑和这个url 网站\n",
    "headers={\"User-Agent\":  \"Mozilla/5.0 (Windows NT 10.0; Win64; x64) AppleWebKit/537.36 (KHTML, like Gecko) Chrome/107.0.0.0 Safari/537.36 Edg/107.0.1418.26\", \n",
    "    \"X-Amzn-Trace-Id\": \"Root=1-636599fc-0a8e9c96068de70f7026e354\", \"Accept-Encoding\":\"gzip, deflate\", \"Accept\":\"text/html,application/xhtml+xml,application/xml;q=0.9,*/*;q=0.8\", \"DNT\":\"1\",\"Connection\":\"close\", \"Upgrade-Insecure-Requests\":\"1\"}\n",
    "\n",
    "page = requests.get(url, headers=headers)\n",
    "soup1 = BeautifulSoup(page.content, \"html.parser\")  #把网址复制过来，此时网址数据很脏\n",
    "\n",
    "soup2 = BeautifulSoup(soup1.prettify(), \"html.parser\") # 美化 网址数据       \n",
    "         \n",
    "title=soup2.find(id='productTitle').get_text()  # 使用ctrl+shigt+i键可以看到网站代码，然后点击自己想要找的内容就可以看到id\n",
    "price= soup2.find(id='corePriceDisplay_desktop_feature_div').get_text()       \n",
    "print(title)\n",
    "print(price)\n",
    "      \n",
    "        "
   ]
  },
  {
   "cell_type": "code",
   "execution_count": 16,
   "id": "5842fa4d",
   "metadata": {},
   "outputs": [
    {
     "name": "stdout",
     "output_type": "stream",
     "text": [
      "Funny Got Data MIS Data Systems Business Analyst T-Shirt\n",
      "16.99\n"
     ]
    },
    {
     "data": {
      "text/plain": [
       "str"
      ]
     },
     "execution_count": 16,
     "metadata": {},
     "output_type": "execute_result"
    }
   ],
   "source": [
    "#price.strip()[1:6]  #选择想要的位置\n",
    "price=price.strip()[1:6]  #选择想要的位置\n",
    "title=title.strip() # strip 是把前面空格去除\n",
    "print(title)\n",
    "print(price)\n",
    "type(price) # 这一步是知道他的格式类型"
   ]
  },
  {
   "cell_type": "code",
   "execution_count": 20,
   "id": "6e8dc7ad",
   "metadata": {},
   "outputs": [
    {
     "name": "stdout",
     "output_type": "stream",
     "text": [
      "2022-11-05\n"
     ]
    }
   ],
   "source": [
    "import datetime\n",
    "\n",
    "datetime.date.today()\n",
    "today =datetime.date.today()\n",
    "print(today)"
   ]
  },
  {
   "cell_type": "code",
   "execution_count": 21,
   "id": "13b7314a",
   "metadata": {},
   "outputs": [],
   "source": [
    "# want to creat a csv ,input data into csv ,then creat a proess to append a lot data in to csv atomantly\n",
    "\n",
    "import csv\n",
    "header=['Title','Price','Date']\n",
    "data =[title,price,today] \n",
    "#type(data)\n",
    "\n",
    "with open ('Amazonwebscraperdataset.csv','w',newline='',encoding='UTF8')as f:# w 是写入函数：write， newline 是给csv 增加space\n",
    "    writer=csv.writer(f)\n",
    "    writer.writerow(header)  # 为了数据初始导入csv\n",
    "    writer.writerow(data) # 上两行是创建csv ，这两行是在insert data\n",
    "    #运行后就会出现在我的C盘user jialuli 中找到\n",
    "    #运行后若价格出错可以把前面的步骤都重新运行下就行\n",
    "    "
   ]
  },
  {
   "cell_type": "code",
   "execution_count": 29,
   "id": "431b993b",
   "metadata": {},
   "outputs": [
    {
     "name": "stdout",
     "output_type": "stream",
     "text": [
      "                                               Title  Price        Date\n",
      "0  Funny Got Data MIS Data Systems Business Analy...  16.99  2022-11-05\n",
      "1  Funny Got Data MIS Data Systems Business Analy...  16.99  2022-11-05\n",
      "2  Funny Got Data MIS Data Systems Business Analy...  16.99  2022-11-05\n"
     ]
    }
   ],
   "source": [
    "import pandas as pd\n",
    "df=pd.read_csv(r'C:\\Users\\jialu li\\Amazonwebscraperdataset.csv') # 别忘记加r\n",
    "print(df)\n"
   ]
  },
  {
   "cell_type": "code",
   "execution_count": 27,
   "id": "44776933",
   "metadata": {},
   "outputs": [],
   "source": [
    "#n now ,i want to appending data to the csv\n",
    "\n",
    "with open ('Amazonwebscraperdataset.csv','a+',newline='',encoding='UTF8')as f:#加 a 是append data \n",
    "    writer=csv.writer(f)\n",
    "   # writer.writerow(header)  # 这里就只添加新数据就行了不需要header了\n",
    "    writer.writerow(data)"
   ]
  },
  {
   "cell_type": "code",
   "execution_count": 40,
   "id": "789930c4",
   "metadata": {},
   "outputs": [],
   "source": [
    "def check_price():\n",
    "\n",
    "    url='https://www.amazon.com/Funny-Data-Systems-Business-Analyst/dp/B07FNW9FGJ/ref=sr_1_3?dchild=1&keywords=data%2Banalyst%2Btshirt&qid=1626655184&sr=8-3&customId=B0752XJYNL&th=1%27'\n",
    "\n",
    "\n",
    "# 用这个网页知道自己的user agent :https://httpbin.org/get  这一步是链接我们的电脑和这个url 网站\n",
    "headers={\"User-Agent\":  \"Mozilla/5.0 (Windows NT 10.0; Win64; x64) AppleWebKit/537.36 (KHTML, like Gecko) Chrome/107.0.0.0 Safari/537.36 Edg/107.0.1418.26\", \n",
    "    \"X-Amzn-Trace-Id\": \"Root=1-636599fc-0a8e9c96068de70f7026e354\", \"Accept-Encoding\":\"gzip, deflate\", \"Accept\":\"text/html,application/xhtml+xml,application/xml;q=0.9,*/*;q=0.8\", \"DNT\":\"1\",\"Connection\":\"close\", \"Upgrade-Insecure-Requests\":\"1\"}\n",
    "\n",
    "page = requests.get(url, headers=headers)\n",
    "soup1 = BeautifulSoup(page.content, \"html.parser\")  #把网址复制过来，此时网址数据很脏\n",
    "\n",
    "soup2 = BeautifulSoup(soup1.prettify(), \"html.parser\") # 美化 网址数据       \n",
    "         \n",
    "title=soup2.find(id='productTitle').get_text()  # 使用ctrl+shigt+i键可以看到网站代码，然后点击自己想要找的内容就可以看到id\n",
    "price= soup2.find(id='corePriceDisplay_desktop_feature_div').get_text()\n",
    "price=price.strip()[1:6]  #选择想要的位置\n",
    "title=title.strip()\n",
    "import datetime\n",
    "\n",
    "#datetime.date.today()\n",
    "today =datetime.date.today()\n",
    "import csv\n",
    "header=['Title','Price','Date']\n",
    "data =[title,price,today] \n",
    "#type(data)\n",
    "with open ('Amazonwebscraperdataset.csv','a+',newline='',encoding='UTF8')as f:#加 a 是append data \n",
    "    writer=csv.writer(f)\n",
    "   # writer.writerow(header)  # 这里就只添加新数据就行了不需要header了\n",
    "    writer.writerow(data)\n",
    "    \n",
    "    \n",
    "    \n",
    "if (price < XX ):  #可以用这个编程来关注自己想买的东西是否降价\n",
    "    send_mail()\n",
    "    "
   ]
  },
  {
   "cell_type": "code",
   "execution_count": 41,
   "id": "14ee35f8",
   "metadata": {},
   "outputs": [
    {
     "ename": "KeyboardInterrupt",
     "evalue": "",
     "output_type": "error",
     "traceback": [
      "\u001b[1;31m---------------------------------------------------------------------------\u001b[0m",
      "\u001b[1;31mKeyboardInterrupt\u001b[0m                         Traceback (most recent call last)",
      "\u001b[1;32m<ipython-input-41-524a9ed92c74>\u001b[0m in \u001b[0;36m<module>\u001b[1;34m\u001b[0m\n\u001b[0;32m      1\u001b[0m \u001b[1;32mwhile\u001b[0m \u001b[1;33m(\u001b[0m\u001b[1;32mTrue\u001b[0m\u001b[1;33m)\u001b[0m\u001b[1;33m:\u001b[0m\u001b[1;33m\u001b[0m\u001b[1;33m\u001b[0m\u001b[0m\n\u001b[0;32m      2\u001b[0m     \u001b[0mcheck_price\u001b[0m\u001b[1;33m(\u001b[0m\u001b[1;33m)\u001b[0m\u001b[1;33m\u001b[0m\u001b[1;33m\u001b[0m\u001b[0m\n\u001b[1;32m----> 3\u001b[1;33m     \u001b[0mtime\u001b[0m\u001b[1;33m.\u001b[0m\u001b[0msleep\u001b[0m\u001b[1;33m(\u001b[0m\u001b[1;36m5\u001b[0m\u001b[1;33m)\u001b[0m\u001b[1;33m\u001b[0m\u001b[1;33m\u001b[0m\u001b[0m\n\u001b[0m",
      "\u001b[1;31mKeyboardInterrupt\u001b[0m: "
     ]
    }
   ],
   "source": [
    "while (True):\n",
    "    check_price()\n",
    "    time.sleep(5)#这里可以添加任何时间"
   ]
  },
  {
   "cell_type": "code",
   "execution_count": 42,
   "id": "7a9bcad3",
   "metadata": {},
   "outputs": [
    {
     "name": "stdout",
     "output_type": "stream",
     "text": [
      "                                               Title  Price        Date\n",
      "0  Funny Got Data MIS Data Systems Business Analy...  16.99  2022-11-05\n",
      "1  Funny Got Data MIS Data Systems Business Analy...  16.99  2022-11-05\n",
      "2  Funny Got Data MIS Data Systems Business Analy...  16.99  2022-11-05\n",
      "3  Funny Got Data MIS Data Systems Business Analy...  16.99  2022-11-05\n",
      "4  Funny Got Data MIS Data Systems Business Analy...  16.99  2022-11-05\n"
     ]
    }
   ],
   "source": [
    "import pandas as pd\n",
    "df=pd.read_csv(r'C:\\Users\\jialu li\\Amazonwebscraperdataset.csv') # 别忘记加r\n",
    "print(df)\n"
   ]
  },
  {
   "cell_type": "code",
   "execution_count": null,
   "id": "d2176654",
   "metadata": {},
   "outputs": [],
   "source": [
    "# If uou want to try sending yourself an email (just for fun) when a price hits below a certain level you can try it\n",
    "# out with this script\n",
    "\n",
    "def send_mail():\n",
    "    server = smtplib.SMTP_SSL('smtp.gmail.com',465)\n",
    "    server.ehlo()\n",
    "    #server.starttls()\n",
    "    server.ehlo()\n",
    "    server.login('lijialu0104@gmail.com','xxxxxxxxxxxxxx') #填写邮箱和密码\n",
    "    \n",
    "    subject = \"The Shirt you want is below $15! Now is your chance to buy!\"\n",
    "    body = \"Alex, This is the moment we have been waiting for. Now is your chance to pick up the shirt of your dreams. Don't mess it up! Link here: https://www.amazon.com/Funny-Data-Systems-Business-Analyst/dp/B07FNW9FGJ/ref=sr_1_3?dchild=1&keywords=data+analyst+tshirt&qid=1626655184&sr=8-3\"\n",
    "   \n",
    "    msg = f\"Subject: {subject}\\n\\n{body}\"\n",
    "    \n",
    "    server.sendmail(\n",
    "        'lijialu0104@gmail.com',\n",
    "        msg\n",
    "     "
   ]
  }
 ],
 "metadata": {
  "kernelspec": {
   "display_name": "Python 3",
   "language": "python",
   "name": "python3"
  },
  "language_info": {
   "codemirror_mode": {
    "name": "ipython",
    "version": 3
   },
   "file_extension": ".py",
   "mimetype": "text/x-python",
   "name": "python",
   "nbconvert_exporter": "python",
   "pygments_lexer": "ipython3",
   "version": "3.8.8"
  }
 },
 "nbformat": 4,
 "nbformat_minor": 5
}
